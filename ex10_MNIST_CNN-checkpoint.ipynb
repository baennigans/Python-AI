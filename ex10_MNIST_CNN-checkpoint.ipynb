{
 "cells": [
  {
   "cell_type": "code",
   "execution_count": 13,
   "id": "d7cc7fea",
   "metadata": {
    "executionInfo": {
     "elapsed": 666,
     "status": "ok",
     "timestamp": 1689659133905,
     "user": {
      "displayName": "김형오",
      "userId": "12580521154359558487"
     },
     "user_tz": -540
    },
    "id": "d7cc7fea"
   },
   "outputs": [],
   "source": [
    "import tensorflow as tf\n",
    "from tensorflow import keras\n",
    "\n",
    "import numpy as np\n",
    "import matplotlib.pyplot as plt\n",
    "\n",
    "mnist = keras.datasets.mnist\n",
    "(train_images, train_labels), (test_images, test_labels) = mnist.load_data()\n",
    "(x_train, y_train), (x_test, y_test) = (train_images, train_labels), (test_images, test_labels)\n",
    "\n",
    "class_names = ['0','1','2','3','4','5','6','7','8','9']\n",
    "NUM_CLASSES = 10"
   ]
  },
  {
   "cell_type": "code",
   "execution_count": 14,
   "id": "f37087a6",
   "metadata": {},
   "outputs": [
    {
     "data": {
      "text/plain": [
       "(60000, 28, 28)"
      ]
     },
     "execution_count": 14,
     "metadata": {},
     "output_type": "execute_result"
    }
   ],
   "source": [
    "x_train.shape"
   ]
  },
  {
   "cell_type": "code",
   "execution_count": 15,
   "id": "dc9d5207",
   "metadata": {
    "colab": {
     "base_uri": "https://localhost:8080/"
    },
    "executionInfo": {
     "elapsed": 666,
     "status": "ok",
     "timestamp": 1689659138216,
     "user": {
      "displayName": "김형오",
      "userId": "12580521154359558487"
     },
     "user_tz": -540
    },
    "id": "dc9d5207",
    "outputId": "fb4032b4-22c0-495c-c171-60614798094a"
   },
   "outputs": [
    {
     "name": "stdout",
     "output_type": "stream",
     "text": [
      "converted y.shape =  (60000, 10)\n"
     ]
    }
   ],
   "source": [
    "from tensorflow.keras.utils import to_categorical\n",
    "\n",
    "x_train = x_train.reshape((60000, 28, 28, 1))\n",
    "x_test = x_test.reshape((10000, 28, 28, 1))\n",
    "\n",
    "x_train = x_train/255.\n",
    "x_test = x_test/255.\n",
    "\n",
    "y_train = to_categorical(y_train, NUM_CLASSES)\n",
    "y_test = to_categorical(y_test, NUM_CLASSES)\n",
    "print(\"converted y.shape = \", y_train.shape)"
   ]
  },
  {
   "cell_type": "code",
   "execution_count": 16,
   "id": "7e7300c1",
   "metadata": {
    "colab": {
     "base_uri": "https://localhost:8080/",
     "height": 1000
    },
    "executionInfo": {
     "elapsed": 4171,
     "status": "ok",
     "timestamp": 1689659146416,
     "user": {
      "displayName": "김형오",
      "userId": "12580521154359558487"
     },
     "user_tz": -540
    },
    "id": "7e7300c1",
    "outputId": "d5641e2f-d2e3-4832-af0f-58cf8c261de7"
   },
   "outputs": [
    {
     "name": "stdout",
     "output_type": "stream",
     "text": [
      "Model: \"sequential_4\"\n",
      "_________________________________________________________________\n",
      " Layer (type)                Output Shape              Param #   \n",
      "=================================================================\n",
      " conv2d_3 (Conv2D)           (None, 26, 26, 32)        320       \n",
      "                                                                 \n",
      " max_pooling2d_2 (MaxPooling  (None, 13, 13, 32)       0         \n",
      " 2D)                                                             \n",
      "                                                                 \n",
      " conv2d_4 (Conv2D)           (None, 11, 11, 64)        18496     \n",
      "                                                                 \n",
      " max_pooling2d_3 (MaxPooling  (None, 5, 5, 64)         0         \n",
      " 2D)                                                             \n",
      "                                                                 \n",
      " conv2d_5 (Conv2D)           (None, 3, 3, 64)          36928     \n",
      "                                                                 \n",
      " flatten_4 (Flatten)         (None, 576)               0         \n",
      "                                                                 \n",
      " dense_8 (Dense)             (None, 64)                36928     \n",
      "                                                                 \n",
      " dense_9 (Dense)             (None, 10)                650       \n",
      "                                                                 \n",
      "=================================================================\n",
      "Total params: 93,322\n",
      "Trainable params: 93,322\n",
      "Non-trainable params: 0\n",
      "_________________________________________________________________\n",
      "You must install pydot (`pip install pydot`) and install graphviz (see instructions at https://graphviz.gitlab.io/download/) for plot_model to work.\n"
     ]
    }
   ],
   "source": [
    "model = keras.Sequential([\n",
    "    keras.layers.Conv2D(32, (3,3), activation='relu', input_shape=(28,28,1)),\n",
    "    keras.layers.MaxPooling2D((2,2)),\n",
    "    keras.layers.Conv2D(64, (3,3), activation='relu'),\n",
    "    keras.layers.MaxPooling2D((2,2)),\n",
    "    keras.layers.Conv2D(64, (3,3), activation='relu'),\n",
    "    keras.layers.Flatten(),\n",
    "    keras.layers.Dense(64, activation='relu'),\n",
    "    keras.layers.Dense(10, activation='softmax')\n",
    "])\n",
    "\n",
    "model.summary()\n",
    "\n",
    "import os\n",
    "os.environ[\"PATH\"] += os.pathsep + 'C:/Program Files/Graphviz/bin'\n",
    "from keras.utils import plot_model\n",
    "plot_model(model, to_file='model_plot.png', show_shapes=True, show_layer_names=True)"
   ]
  },
  {
   "cell_type": "code",
   "execution_count": 17,
   "id": "f61fea34",
   "metadata": {
    "colab": {
     "base_uri": "https://localhost:8080/"
    },
    "executionInfo": {
     "elapsed": 506,
     "status": "ok",
     "timestamp": 1689659159657,
     "user": {
      "displayName": "김형오",
      "userId": "12580521154359558487"
     },
     "user_tz": -540
    },
    "id": "f61fea34",
    "outputId": "a8b1605f-62c1-4f04-f08c-a3c3d8b6d36d"
   },
   "outputs": [
    {
     "name": "stdout",
     "output_type": "stream",
     "text": [
      "(3, 3, 1, 32) (32,)\n",
      "[[-0.13624749 -0.12123437  0.10633676]\n",
      " [-0.01840025 -0.08676143 -0.07398237]\n",
      " [ 0.09823775  0.07650742  0.07915212]]\n"
     ]
    }
   ],
   "source": [
    "conv2d_1 = model.layers[0]\n",
    "weights = conv2d_1.get_weights()\n",
    "w = weights[0]\n",
    "b = weights[1]\n",
    "print(w.shape, b.shape)\n",
    "filter_id = 0\n",
    "kernel = w[:,:,:,filter_id:filter_id+1]\n",
    "kernel = kernel.reshape(3,3)\n",
    "print(kernel)"
   ]
  },
  {
   "cell_type": "code",
   "execution_count": 18,
   "id": "507ef0db",
   "metadata": {
    "colab": {
     "base_uri": "https://localhost:8080/"
    },
    "executionInfo": {
     "elapsed": 143822,
     "status": "ok",
     "timestamp": 1689659311660,
     "user": {
      "displayName": "김형오",
      "userId": "12580521154359558487"
     },
     "user_tz": -540
    },
    "id": "507ef0db",
    "outputId": "16d46438-41fb-4b08-cf13-702c5d59ecde"
   },
   "outputs": [
    {
     "name": "stdout",
     "output_type": "stream",
     "text": [
      "1875/1875 [==============================] - 7s 4ms/step - loss: 0.5845 - accuracy: 0.8219\n"
     ]
    }
   ],
   "source": [
    "model.compile(optimizer='sgd',\n",
    "             loss='categorical_crossentropy',\n",
    "             metrics=['accuracy'])\n",
    "#epochs 10으로\n",
    "history = model.fit(x_train, y_train, epochs=1)"
   ]
  },
  {
   "cell_type": "code",
   "execution_count": 19,
   "id": "44700999",
   "metadata": {
    "colab": {
     "base_uri": "https://localhost:8080/",
     "height": 472
    },
    "executionInfo": {
     "elapsed": 8,
     "status": "ok",
     "timestamp": 1689659311661,
     "user": {
      "displayName": "김형오",
      "userId": "12580521154359558487"
     },
     "user_tz": -540
    },
    "id": "44700999",
    "outputId": "68840780-69c8-40f2-b9de-8af2a069d50a"
   },
   "outputs": [
    {
     "data": {
      "image/png": "[encoded data removed]",
      "text/plain": [
       "<Figure size 640x480 with 1 Axes>"
      ]
     },
     "metadata": {},
     "output_type": "display_data"
    }
   ],
   "source": [
    "plt.plot(history.history['accuracy'])\n",
    "plt.plot(history.history['loss'])\n",
    "plt.title('train history')\n",
    "plt.ylabel('accuracy')\n",
    "plt.xlabel('epoch')\n",
    "plt.legend(['accuracy', 'loss'], loc='upper left')\n",
    "plt.show()"
   ]
  },
  {
   "cell_type": "code",
   "execution_count": 20,
   "id": "285c6cbd",
   "metadata": {
    "colab": {
     "base_uri": "https://localhost:8080/"
    },
    "executionInfo": {
     "elapsed": 1911,
     "status": "ok",
     "timestamp": 1689659320832,
     "user": {
      "displayName": "김형오",
      "userId": "12580521154359558487"
     },
     "user_tz": -540
    },
    "id": "285c6cbd",
    "outputId": "48cb450b-eef3-4b28-c15f-73e58d7061d4"
   },
   "outputs": [
    {
     "name": "stdout",
     "output_type": "stream",
     "text": [
      "313/313 [==============================] - 1s 3ms/step - loss: 0.1600 - accuracy: 0.9517\n"
     ]
    }
   ],
   "source": [
    "loss, accuracy = model.evaluate(x_test, y_test)"
   ]
  },
  {
   "cell_type": "code",
   "execution_count": 21,
   "id": "mn0Wf8OdwP7j",
   "metadata": {
    "colab": {
     "base_uri": "https://localhost:8080/"
    },
    "executionInfo": {
     "elapsed": 493,
     "status": "ok",
     "timestamp": 1689659329447,
     "user": {
      "displayName": "김형오",
      "userId": "12580521154359558487"
     },
     "user_tz": -540
    },
    "id": "mn0Wf8OdwP7j",
    "outputId": "5ab4bcbe-8362-4251-f8fa-1fed2d642c49"
   },
   "outputs": [
    {
     "name": "stdout",
     "output_type": "stream",
     "text": [
      "1/1 [==============================] - 0s 51ms/step\n",
      "[1.6970977e-05 4.6001549e-04 2.1734484e-03 5.8622986e-02 2.2252729e-08\n",
      " 9.3774360e-01 3.2195226e-06 7.1674323e-05 8.8678172e-04 2.1243013e-05]\n",
      "0.99999994\n"
     ]
    }
   ],
   "source": [
    "preds = model.predict(x_train[0:1])\n",
    "print(preds[0])\n",
    "print(preds[0].sum())"
   ]
  },
  {
   "cell_type": "code",
   "execution_count": 22,
   "id": "wgE36GBbwe9Y",
   "metadata": {
    "colab": {
     "base_uri": "https://localhost:8080/",
     "height": 1000
    },
    "executionInfo": {
     "elapsed": 84667,
     "status": "ok",
     "timestamp": 1687735585909,
     "user": {
      "displayName": "김형오",
      "userId": "12580521154359558487"
     },
     "user_tz": -540
    },
    "id": "wgE36GBbwe9Y",
    "outputId": "cd45bd59-f1cd-41bc-ec86-c4ff64c62750"
   },
   "outputs": [
    {
     "name": "stdout",
     "output_type": "stream",
     "text": [
      "Model: \"sequential_5\"\n",
      "_________________________________________________________________\n",
      " Layer (type)                Output Shape              Param #   \n",
      "=================================================================\n",
      " flatten_5 (Flatten)         (None, 784)               0         \n",
      "                                                                 \n",
      " dense_10 (Dense)            (None, 128)               100480    \n",
      "                                                                 \n",
      " dense_11 (Dense)            (None, 10)                1290      \n",
      "                                                                 \n",
      "=================================================================\n",
      "Total params: 101,770\n",
      "Trainable params: 101,770\n",
      "Non-trainable params: 0\n",
      "_________________________________________________________________\n",
      "1875/1875 [==============================] - 5s 3ms/step - loss: 0.6560 - accuracy: 0.8345\n"
     ]
    },
    {
     "data": {
      "image/png": "[encoded data removed]",
      "text/plain": [
       "<Figure size 640x480 with 1 Axes>"
      ]
     },
     "metadata": {},
     "output_type": "display_data"
    },
    {
     "name": "stdout",
     "output_type": "stream",
     "text": [
      "313/313 [==============================] - 1s 2ms/step - loss: 0.3602 - accuracy: 0.9035\n"
     ]
    }
   ],
   "source": [
    "modelfc = keras.Sequential([\n",
    "    keras.layers.Flatten(input_shape=(28,28,1)),\n",
    "    keras.layers.Dense(128, activation='relu'),\n",
    "    keras.layers.Dense(10, activation='softmax')\n",
    "])\n",
    "\n",
    "modelfc.summary()\n",
    "modelfc.compile(optimizer = 'sgd',\n",
    "                loss='categorical_crossentropy',\n",
    "                metrics=['accuracy'])\n",
    "#epochs 10로\n",
    "history = modelfc.fit(x_train, y_train, epochs=1)\n",
    "\n",
    "plt.plot(history.history['accuracy'])\n",
    "plt.plot(history.history['loss'])\n",
    "plt.title('train history')\n",
    "plt.ylabel('accuracy')\n",
    "plt.xlabel('epoch')\n",
    "plt.legend(['accuracy', 'loss'], loc='upper left')\n",
    "plt.show()\n",
    "\n",
    "loss, accuracy = modelfc.evaluate(x_test, y_test)"
   ]
  },
  {
   "cell_type": "code",
   "execution_count": 23,
   "id": "CqbHr7LFyALZ",
   "metadata": {
    "colab": {
     "base_uri": "https://localhost:8080/",
     "height": 540
    },
    "executionInfo": {
     "elapsed": 771,
     "status": "ok",
     "timestamp": 1687735626699,
     "user": {
      "displayName": "김형오",
      "userId": "12580521154359558487"
     },
     "user_tz": -540
    },
    "id": "CqbHr7LFyALZ",
    "outputId": "d39c43f3-4e67-42f0-9a95-a2336e67d9ae"
   },
   "outputs": [
    {
     "name": "stdout",
     "output_type": "stream",
     "text": [
      "out[0].shape = (2, 26, 26, 32)\n",
      "model result shape (with channel) =  (26, 26, 1)\n",
      "(26, 26)\n"
     ]
    },
    {
     "data": {
      "image/png": "[encoded data removed]",
      "text/plain": [
       "<Figure size 640x480 with 1 Axes>"
      ]
     },
     "metadata": {},
     "output_type": "display_data"
    },
    {
     "name": "stdout",
     "output_type": "stream",
     "text": [
      "[[0.         0.         0.01176471]\n",
      " [0.36862745 0.60392157 0.66666667]\n",
      " [0.99215686 0.99215686 0.99215686]]\n"
     ]
    }
   ],
   "source": [
    "from tensorflow.keras import backend as K\n",
    "\n",
    "inp = model.input\n",
    "outputs = [layer.output for layer in model.layers]\n",
    "functors = [K.function([inp, keras.Input(shape=())], [out]) for out in outputs]\n",
    "\n",
    "layer_id = 0\n",
    "filter_id = 0\n",
    "layerfn = functors[layer_id]\n",
    "learning_phase = 0\n",
    "out = layerfn([x_train[0:2], learning_phase])\n",
    "\n",
    "print('out[0].shape =', out[0].shape)\n",
    "result = out[0][0][:,:,filter_id:filter_id+1]\n",
    "\n",
    "print('model result shape (with channel) = ', result.shape)\n",
    "\n",
    "result_as_img = result.reshape((result.shape[0], result.shape[1]))\n",
    "print(result_as_img.shape)\n",
    "\n",
    "plt.imshow(x_train[0].reshape((28,28)), cmap=plt.cm.binary)\n",
    "plt.show()\n",
    "x_pos = 10\n",
    "y_pos = 5\n",
    "img3x3 = x_train[0][y_pos:y_pos+3, x_pos:x_pos+3, :].reshape((3,3))\n",
    "print(img3x3)"
   ]
  },
  {
   "cell_type": "code",
   "execution_count": 24,
   "id": "GCRDmSwE4VeF",
   "metadata": {
    "colab": {
     "base_uri": "https://localhost:8080/"
    },
    "executionInfo": {
     "elapsed": 411,
     "status": "ok",
     "timestamp": 1687735851719,
     "user": {
      "displayName": "김형오",
      "userId": "12580521154359558487"
     },
     "user_tz": -540
    },
    "id": "GCRDmSwE4VeF",
    "outputId": "50592d6a-45d5-47fe-cb2a-4fb26f1e520d"
   },
   "outputs": [
    {
     "name": "stdout",
     "output_type": "stream",
     "text": [
      "(3, 3, 1, 32) (32,)\n",
      "[[-0.13970123 -0.12784962  0.04888447]\n",
      " [ 0.00428137 -0.08887725 -0.12303289]\n",
      " [ 0.18025434  0.12423943  0.07106923]]\n",
      "0.013068142\n",
      "[[0.         0.         0.01176471]\n",
      " [0.36862745 0.60392157 0.66666667]\n",
      " [0.99215686 0.99215686 0.99215686]]\n"
     ]
    }
   ],
   "source": [
    "conv2d_l = model.layers[0]\n",
    "weights = conv2d_l.get_weights()\n",
    "w = weights[0]\n",
    "b = weights[1]\n",
    "print(w.shape, b.shape)\n",
    "filter_id = 0\n",
    "kernel = w[:,:,:,filter_id:filter_id+1]\n",
    "kernel = kernel.reshape(3,3)\n",
    "print(kernel)\n",
    "bias = b[0]\n",
    "print(bias)\n",
    "print(img3x3)"
   ]
  },
  {
   "cell_type": "code",
   "execution_count": 25,
   "id": "D8WgG---5VZ0",
   "metadata": {
    "colab": {
     "base_uri": "https://localhost:8080/"
    },
    "executionInfo": {
     "elapsed": 2,
     "status": "ok",
     "timestamp": 1687735990534,
     "user": {
      "displayName": "김형오",
      "userId": "12580521154359558487"
     },
     "user_tz": -540
    },
    "id": "D8WgG---5VZ0",
    "outputId": "4057cec5-163d-42aa-dc99-abed7d029280"
   },
   "outputs": [
    {
     "name": "stdout",
     "output_type": "stream",
     "text": [
      "0.252142082454235\n",
      "[0.2521421]\n"
     ]
    }
   ],
   "source": [
    "y = (kernel*img3x3).sum()+bias\n",
    "if y < 0:\n",
    "  y = 0\n",
    "print(y)\n",
    "print(result[y_pos][x_pos])"
   ]
  }
 ],
 "metadata": {
  "accelerator": "GPU",
  "colab": {
   "gpuType": "T4",
   "provenance": []
  },
  "kernelspec": {
   "display_name": "tensorflow210Py310",
   "language": "python",
   "name": "tensorflow210py310"
  },
  "language_info": {
   "codemirror_mode": {
    "name": "ipython",
    "version": 3
   },
   "file_extension": ".py",
   "mimetype": "text/x-python",
   "name": "python",
   "nbconvert_exporter": "python",
   "pygments_lexer": "ipython3",
   "version": "3.10.12"
  }
 },
 "nbformat": 4,
 "nbformat_minor": 5
}
