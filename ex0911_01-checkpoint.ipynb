{
 "cells": [
  {
   "cell_type": "code",
   "execution_count": 11,
   "id": "5e5484c1",
   "metadata": {},
   "outputs": [
    {
     "name": "stdout",
     "output_type": "stream",
     "text": [
      "(3, 3)\n",
      "100\n"
     ]
    }
   ],
   "source": [
    "import numpy as np\n",
    "from PIL import Image\n",
    "\n",
    "image = np.array(\n",
    "    [[255, 0, 255],\n",
    "    [120, 200, 100],\n",
    "    [200, 128, 50]]\n",
    ")\n",
    "print(image.shape)\n",
    "print(image[1][2])\n",
    "\n",
    "img = Image.fromarray(image)\n",
    "img.show()\n",
    "img.save('test.png','PNG')"
   ]
  },
  {
   "cell_type": "code",
   "execution_count": 12,
   "id": "96202c9d",
   "metadata": {},
   "outputs": [
    {
     "name": "stdout",
     "output_type": "stream",
     "text": [
      "(3, 3, 3)\n",
      "[  0   0 255]\n",
      "255\n"
     ]
    }
   ],
   "source": [
    "import numpy as np\n",
    "from PIL import Image\n",
    "\n",
    "color_image = np.array(\n",
    "[[[255,255,255],[0,0,0],[128,128,128]],\n",
    " [[255,0,0],[0,255,0],[0,0,255]],\n",
    " [[255,255,0],[255,0,255],[0,255,255]]]\n",
    ")\n",
    "print(color_image.shape)\n",
    "print(color_image[1][2])\n",
    "print(color_image[1][2][2])\n",
    "\n",
    "clrimg = Image.fromarray(color_image.astype(np.uint8))\n",
    "clrimg.show()"
   ]
  },
  {
   "cell_type": "code",
   "execution_count": 3,
   "id": "5b763ff5",
   "metadata": {},
   "outputs": [
    {
     "name": "stdout",
     "output_type": "stream",
     "text": [
      "(3, 3, 3)\n",
      "[  0   0 255]\n",
      "255\n"
     ]
    }
   ],
   "source": [
    "# 이미지 배열을 위아래로 뒤집기\n",
    "flipped_image = np.flipud(color_image)\n",
    "\n",
    "# 뒤집힌 이미지의 형태 확인\n",
    "print(flipped_image.shape)\n",
    "\n",
    "# 뒤집힌 이미지의 특정 픽셀 값 확인\n",
    "print(flipped_image[1][2])\n",
    "print(flipped_image[1][2][2])\n",
    "\n",
    "# 뒤집힌 이미지를 이미지 객체로 변환하여 표시\n",
    "clrimg = Image.fromarray(flipped_image.astype(np.uint8))\n",
    "clrimg.show()"
   ]
  },
  {
   "cell_type": "code",
   "execution_count": 13,
   "id": "1f1f0c27",
   "metadata": {},
   "outputs": [],
   "source": [
    "import numpy as np\n",
    "import cv2"
   ]
  },
  {
   "cell_type": "code",
   "execution_count": 21,
   "id": "a3c6a37e",
   "metadata": {},
   "outputs": [],
   "source": [
    "img = cv2.imread('checkerboard_patten.png')\n",
    "img = cv2.cvtColor(img, cv2.COLOR_BGR2RGB)\n",
    "\n",
    "pts1 = np.float32([[100,100], [180,100], [200,200]])\n",
    "pts2 = np.float32([[100,100], [192,120], [220,220]])\n",
    "\n",
    "M = cv2.getAffineTransform(pts1, pts2)\n",
    "dst = cv2.warpAffine(img, M, img.shape[:2])\n",
    "\n",
    "cv2.circle(img, pts1[0].astype(np.uint8), 2, (255,0,0), 2)\n",
    "cv2.circle(img, pts1[1].astype(np.uint8), 2, (0,255,0), 2)\n",
    "cv2.circle(img, pts1[2].astype(np.uint8), 2, (0,0,255), 2)\n",
    "cv2.circle(img, pts1[0].astype(np.uint8), 2, (255,0,0), 2)\n",
    "cv2.circle(img, pts1[1].astype(np.uint8), 2, (0,255,0), 2)\n",
    "cv2.circle(img, pts1[2].astype(np.uint8), 2, (0,0,255), 2)\n",
    "\n",
    "cv2.imshow('Original', img)\n",
    "cv2.imshow('Affine', dst)\n",
    "\n",
    "cv2.waitKey(0)\n",
    "cv2.destroyAllWindows()"
   ]
  },
  {
   "cell_type": "code",
   "execution_count": 22,
   "id": "85279143",
   "metadata": {},
   "outputs": [
    {
     "name": "stdout",
     "output_type": "stream",
     "text": [
      "[[3. 5. 5. 3. 1.]\n",
      " [3. 6. 7. 6. 3.]\n",
      " [2. 5. 8. 7. 4.]\n",
      " [2. 5. 7. 6. 3.]\n",
      " [2. 4. 5. 3. 1.]]\n"
     ]
    }
   ],
   "source": [
    "import numpy as np\n",
    "\n",
    "x = np.array([[1,1,1,0,0],\n",
    "              [0,1,1,1,0],\n",
    "              [0,0,1,1,1],\n",
    "              [0,1,1,1,0],\n",
    "              [0,1,1,0,0]], dtype=float)\n",
    "kernel = np.array([[1,1,1],\n",
    "                   [1,1,1],\n",
    "                   [1,1,1]])\n",
    "\n",
    "y = cv2.filter2D(x, -1, kernel, borderType=cv2.BORDER_CONSTANT)\n",
    "print(y)"
   ]
  }
 ],
 "metadata": {
  "kernelspec": {
   "display_name": "tensorflow210Py310",
   "language": "python",
   "name": "tensorflow210py310"
  },
  "language_info": {
   "codemirror_mode": {
    "name": "ipython",
    "version": 3
   },
   "file_extension": ".py",
   "mimetype": "text/x-python",
   "name": "python",
   "nbconvert_exporter": "python",
   "pygments_lexer": "ipython3",
   "version": "3.10.12"
  }
 },
 "nbformat": 4,
 "nbformat_minor": 5
}
